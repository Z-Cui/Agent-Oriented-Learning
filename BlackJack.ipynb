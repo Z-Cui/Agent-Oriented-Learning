{
 "cells": [
  {
   "cell_type": "markdown",
   "metadata": {},
   "source": [
    "## BlackJack: https://en.wikipedia.org/wiki/Blackjack\n",
    "\n",
    "### Rules: \n",
    "Players are each dealt two cards, face up or down depending on the casino and the table. In the U.S., the dealer is also dealt two cards, normally one up (exposed) and one down (hidden). In most other countries, the dealer only receives one card face up. The value of cards two through ten is their pip value (2 through 10). Face cards (Jack, Queen, and King) are all worth ten. Aces can be worth one or eleven. A hand's value is the sum of the card values. Players are allowed to draw additional cards to improve their hands. A hand with an ace valued as 11 is called \"soft\", meaning that the hand will not bust by taking an additional card. The value of the ace will become one to prevent the hand from exceeding 21. Otherwise, the hand is called \"hard\".\n",
    "\n",
    "Once all the players have completed their hands, it is the dealer's turn. The dealer hand will not be completed if all players have either busted or received blackjacks. The dealer then reveals the hidden card and must hit until the cards total up to 17 points. At 17 points or higher the dealer must stay. (At most tables the dealer also hits on a \"soft\" 17, i.e. a hand containing an ace and one or more other cards totaling six.) You are betting that you have a better hand than the dealer. The better hand is the hand where the sum of the card values is closer to 21 without exceeding 21. The detailed outcome of the hand follows:\n",
    "\n",
    "- If the player is dealt an Ace and a ten-value card (called a \"blackjack\" or \"natural\"), and the dealer does not, the player wins and usually receives a bonus.\n",
    "- If the player exceeds a sum of 21 (\"busts\"), the player loses, even if the dealer also exceeds 21.\n",
    "- If the dealer exceeds 21 (\"busts\") and the player does not, the player wins.\n",
    "- If the player attains a final sum higher than the dealer and does not bust, the player wins.\n",
    "- If both dealer and player receive a blackjack or any other hands with the same sum called a \"push\", no one wins."
   ]
  },
  {
   "cell_type": "code",
   "execution_count": 1,
   "metadata": {},
   "outputs": [],
   "source": [
    "import itertools, random\n",
    "\n",
    "# Create a list of cards\n",
    "cards = ['A', '2', '3', '4', '5', '6', '7', '8', '9', '10', 'J', 'Q', 'K']\n",
    "\n",
    "# Make a deck of cards (52 cards)\n",
    "deck = list(itertools.product(['♠','♥','♦','♣'], cards))\n",
    "\n",
    "# Make a shuffled multi-deck of cards\n",
    "def createShuffledMultiDeck(numOfDecks):\n",
    "    multiDeck = deck * numOfDecks\n",
    "    random.shuffle(multiDeck)\n",
    "    return multiDeck"
   ]
  },
  {
   "cell_type": "code",
   "execution_count": 2,
   "metadata": {},
   "outputs": [],
   "source": [
    "# Deal a card\n",
    "def dealCard(Deck, Hand):\n",
    "    a = Deck.pop(0)\n",
    "    Hand.append(a)\n",
    "\n",
    "# Check whether 'Ace' exists\n",
    "def hasAce(Hand):\n",
    "    for i in range(len(Hand)):\n",
    "        if Hand[i][1] == 'A':\n",
    "            return True\n",
    "    return False\n",
    "\n",
    "# Caculate current points\n",
    "def calculatePoints(Hand):\n",
    "    dictPoints = {'2':2, '3':3, '4':4, '5':5, '6':6, '7':7, '8':8, '9':9, '10':10, 'J':10, 'Q':10, 'K':10}\n",
    "    pts = 0\n",
    "    for i in range(len(Hand)):\n",
    "        if Hand[i][1] in dictPoints.keys():\n",
    "            pts += dictPoints.get(Hand[i][1])\n",
    "        else:\n",
    "            # if the card is an Ace\n",
    "            pts += 1\n",
    "    \n",
    "    # use Ace as 11 points\n",
    "    if hasAce(Hand):\n",
    "        return pts + 10\n",
    "    \n",
    "    return pts"
   ]
  },
  {
   "cell_type": "code",
   "execution_count": 3,
   "metadata": {},
   "outputs": [],
   "source": [
    "# Check if player received initially an Ace card and a ten-valued card\n",
    "def isNatural(Hand):\n",
    "    if hasAce(Hand) and len(Hand) == 2 and calculatePoints(Hand) == 11:\n",
    "        return True\n",
    "    else:\n",
    "        return False\n",
    "\n",
    "# Check if hand exceeds 21 points\n",
    "def isBust(Hand):\n",
    "    if calculatePoints(Hand) > 21:\n",
    "        return True\n",
    "    else:\n",
    "        return False\n",
    "\n",
    "# Score of current hand\n",
    "def score(Hand):\n",
    "    return 0 if isBust(Hand) else calculatePoints(Hand)"
   ]
  },
  {
   "cell_type": "code",
   "execution_count": 4,
   "metadata": {},
   "outputs": [
    {
     "name": "stdout",
     "output_type": "stream",
     "text": [
      "Cards on the top of the multi-deck:\n",
      "♥ 5 | ♥ J | ♠ 9 | ♣ Q | ♦ K | ♥ 6 | ♥ A | ♣ 8 | ♦ 8 | ♣ 6 | \n",
      "Cards of Player, pts: 5 , hasAce: False\n",
      "♥ 5 |  --- Cards on the top of the multi-deck: ♥ J | ♠ 9 | ♣ Q | ♦ K | ♥ 6 | \n",
      "Cards of Player, pts: 15 , hasAce: False\n",
      "♥ 5 | ♥ J |  --- Cards on the top of the multi-deck: ♠ 9 | ♣ Q | ♦ K | ♥ 6 | ♥ A | \n",
      "Cards of Player, pts: 24 , hasAce: False\n",
      "♥ 5 | ♥ J | ♠ 9 |  --- Cards on the top of the multi-deck: ♣ Q | ♦ K | ♥ 6 | ♥ A | ♣ 8 | \n"
     ]
    }
   ],
   "source": [
    "# Initialize a deck\n",
    "numOfDecks = 1\n",
    "deck = createShuffledMultiDeck(numOfDecks)\n",
    "\n",
    "# Draw first cards\n",
    "print(\"Cards on the top of the multi-deck:\")\n",
    "for i in range(10):\n",
    "   print(deck[i][0], deck[i][1], end=' | ')\n",
    "print(\"\")\n",
    "\n",
    "# Initialize player's cards\n",
    "playerCards = []\n",
    "playerCardsHasAce = False\n",
    "\n",
    "# Draw 3 cards and print results\n",
    "repeat_n = 3\n",
    "for i in range(repeat_n):\n",
    "\n",
    "    dealCard(deck, playerCards)\n",
    "    pts = calculatePoints(playerCards)\n",
    "    playerCardsHasAce = hasAce(playerCards)\n",
    "    print(\"Cards of Player, pts:\", pts, \", hasAce:\", playerCardsHasAce)\n",
    "    for i in range(len(playerCards)):\n",
    "        print(playerCards[i][0], playerCards[i][1], end=' | ')\n",
    "\n",
    "    print(\" --- Cards on the top of the multi-deck:\", end = ' ')\n",
    "    for i in range(5):\n",
    "        print(deck[i][0], deck[i][1], end=' | ')\n",
    "    print(\"\")"
   ]
  },
  {
   "cell_type": "code",
   "execution_count": null,
   "metadata": {},
   "outputs": [],
   "source": []
  },
  {
   "cell_type": "code",
   "execution_count": null,
   "metadata": {},
   "outputs": [],
   "source": []
  }
 ],
 "metadata": {
  "kernelspec": {
   "display_name": "Python 3",
   "language": "python",
   "name": "python3"
  },
  "language_info": {
   "codemirror_mode": {
    "name": "ipython",
    "version": 3
   },
   "file_extension": ".py",
   "mimetype": "text/x-python",
   "name": "python",
   "nbconvert_exporter": "python",
   "pygments_lexer": "ipython3",
   "version": "3.8.5"
  }
 },
 "nbformat": 4,
 "nbformat_minor": 4
}
