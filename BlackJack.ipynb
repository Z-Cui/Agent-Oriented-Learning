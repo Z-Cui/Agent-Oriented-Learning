{
 "cells": [
  {
   "cell_type": "markdown",
   "metadata": {},
   "source": [
    "## BlackJack: https://en.wikipedia.org/wiki/Blackjack\n",
    "\n",
    "### Rules: \n",
    "Players are each dealt two cards, face up or down depending on the casino and the table. In the U.S., the dealer is also dealt two cards, normally one up (exposed) and one down (hidden). In most other countries, the dealer only receives one card face up. The value of cards two through ten is their pip value (2 through 10). Face cards (Jack, Queen, and King) are all worth ten. Aces can be worth one or eleven. A hand's value is the sum of the card values. Players are allowed to draw additional cards to improve their hands. A hand with an ace valued as 11 is called \"soft\", meaning that the hand will not bust by taking an additional card. The value of the ace will become one to prevent the hand from exceeding 21. Otherwise, the hand is called \"hard\".\n",
    "\n",
    "Once all the players have completed their hands, it is the dealer's turn. The dealer hand will not be completed if all players have either busted or received blackjacks. The dealer then reveals the hidden card and must hit until the cards total up to 17 points. At 17 points or higher the dealer must stay. (At most tables the dealer also hits on a \"soft\" 17, i.e. a hand containing an ace and one or more other cards totaling six.) You are betting that you have a better hand than the dealer. The better hand is the hand where the sum of the card values is closer to 21 without exceeding 21. The detailed outcome of the hand follows:\n",
    "\n",
    "- If the player is dealt an Ace and a ten-value card (called a \"blackjack\" or \"natural\"), and the dealer does not, the player wins and usually receives a bonus.\n",
    "- If the player exceeds a sum of 21 (\"busts\"), the player loses, even if the dealer also exceeds 21.\n",
    "- If the dealer exceeds 21 (\"busts\") and the player does not, the player wins.\n",
    "- If the player attains a final sum higher than the dealer and does not bust, the player wins.\n",
    "- If both dealer and player receive a blackjack or any other hands with the same sum called a \"push\", no one wins."
   ]
  },
  {
   "cell_type": "code",
   "execution_count": 1,
   "metadata": {},
   "outputs": [],
   "source": [
    "import itertools, random\n",
    "\n",
    "# Create a list of cards\n",
    "cards = ['A', '2', '3', '4', '5', '6', '7', '8', '9', '10', 'J', 'Q', 'K']\n",
    "\n",
    "# Make a deck of cards (list)\n",
    "deck = list(itertools.product(['♠','♥','♦','♣'], cards))\n",
    "\n",
    "# Make a shuffled multi-deck of cards\n",
    "def createShuffledMultiDeck(numOfDecks):\n",
    "    multiDeck = deck * numOfDecks\n",
    "    random.shuffle(multiDeck)\n",
    "    return multiDeck"
   ]
  },
  {
   "cell_type": "code",
   "execution_count": 2,
   "metadata": {},
   "outputs": [],
   "source": [
    "# Dealer deals a card to player\n",
    "def dealCards(Deck, MyCards):\n",
    "    a = Deck.pop(0)\n",
    "    MyCards.append(a)\n",
    "\n",
    "# Caculate current points\n",
    "def calculatePoints(MyCards):\n",
    "    dictPoints = {\n",
    "        '2':2, '3':3, '4':4, '5':5, '6':6, '7':7, '8':8, '9':9, '10':10, 'J':10, 'Q':10, 'K':10\n",
    "    }\n",
    "    pts = [0]\n",
    "    for i in range(len(MyCards)):\n",
    "        if playerCards[i][1] in dictPoints.keys():\n",
    "            for j in range(len(pts)):\n",
    "                pts[j] += dictPoints.get(playerCards[i][1])\n",
    "        else:\n",
    "            for j in range(len(pts)):\n",
    "                pts.append(pts[j] + 11)\n",
    "                pts[j] += 1\n",
    "    return pts"
   ]
  },
  {
   "cell_type": "code",
   "execution_count": 3,
   "metadata": {},
   "outputs": [
    {
     "name": "stdout",
     "output_type": "stream",
     "text": [
      "Cards on the top of the multi-deck:\n",
      "♣ 3 | ♣ 6 | ♣ 10 | ♣ 8 | ♠ 4 | ♥ K | ♣ 7 | ♣ 9 | ♦ 9 | ♦ 3 | "
     ]
    }
   ],
   "source": [
    "numOfDecks = 1\n",
    "multiDeck = createShuffledMultiDeck(numOfDecks)\n",
    "\n",
    "# Draw first cards\n",
    "print(\"Cards on the top of the multi-deck:\")\n",
    "for i in range(10):\n",
    "   print(multiDeck[i][0], multiDeck[i][1], end=' | ')"
   ]
  },
  {
   "cell_type": "code",
   "execution_count": 4,
   "metadata": {},
   "outputs": [],
   "source": [
    "# Initialize player's cards\n",
    "playerCards = []"
   ]
  },
  {
   "cell_type": "code",
   "execution_count": 5,
   "metadata": {},
   "outputs": [],
   "source": [
    "dealCards(multiDeck, playerCards)"
   ]
  },
  {
   "cell_type": "code",
   "execution_count": 6,
   "metadata": {},
   "outputs": [
    {
     "name": "stdout",
     "output_type": "stream",
     "text": [
      "Cards of Player\n",
      "♣ 3 | \n",
      "Cards on the top of the multi-deck:\n",
      "♣ 6 | ♣ 10 | ♣ 8 | ♠ 4 | ♥ K | "
     ]
    }
   ],
   "source": [
    "print(\"Cards of Player\")\n",
    "for i in range(len(playerCards)):\n",
    "    print(playerCards[i][0], playerCards[i][1], end=' | ')\n",
    "\n",
    "print(\"\")\n",
    "print(\"Cards on the top of the multi-deck:\")\n",
    "for i in range(5):\n",
    "    print(multiDeck[i][0], multiDeck[i][1], end=' | ')"
   ]
  },
  {
   "cell_type": "code",
   "execution_count": 7,
   "metadata": {},
   "outputs": [
    {
     "name": "stdout",
     "output_type": "stream",
     "text": [
      "[3]\n"
     ]
    }
   ],
   "source": [
    "pts = calculatePoints(playerCards)\n",
    "print(pts)"
   ]
  },
  {
   "cell_type": "code",
   "execution_count": 8,
   "metadata": {},
   "outputs": [],
   "source": [
    "dealCards(multiDeck, playerCards)"
   ]
  },
  {
   "cell_type": "code",
   "execution_count": 9,
   "metadata": {},
   "outputs": [
    {
     "name": "stdout",
     "output_type": "stream",
     "text": [
      "Cards of Player\n",
      "♣ 3 | ♣ 6 | \n",
      "Cards on the top of the multi-deck:\n",
      "♣ 10 | ♣ 8 | ♠ 4 | ♥ K | ♣ 7 | "
     ]
    }
   ],
   "source": [
    "print(\"Cards of Player\")\n",
    "for i in range(len(playerCards)):\n",
    "    print(playerCards[i][0], playerCards[i][1], end=' | ')\n",
    "\n",
    "print(\"\")\n",
    "print(\"Cards on the top of the multi-deck:\")\n",
    "for i in range(5):\n",
    "    print(multiDeck[i][0], multiDeck[i][1], end=' | ')"
   ]
  },
  {
   "cell_type": "code",
   "execution_count": 10,
   "metadata": {},
   "outputs": [
    {
     "name": "stdout",
     "output_type": "stream",
     "text": [
      "[9]\n"
     ]
    }
   ],
   "source": [
    "pts = calculatePoints(playerCards)\n",
    "print(pts)"
   ]
  },
  {
   "cell_type": "code",
   "execution_count": null,
   "metadata": {},
   "outputs": [],
   "source": []
  }
 ],
 "metadata": {
  "kernelspec": {
   "display_name": "Python 3",
   "language": "python",
   "name": "python3"
  },
  "language_info": {
   "codemirror_mode": {
    "name": "ipython",
    "version": 3
   },
   "file_extension": ".py",
   "mimetype": "text/x-python",
   "name": "python",
   "nbconvert_exporter": "python",
   "pygments_lexer": "ipython3",
   "version": "3.8.3"
  }
 },
 "nbformat": 4,
 "nbformat_minor": 4
}
